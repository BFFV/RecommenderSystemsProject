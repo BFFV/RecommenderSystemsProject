{
 "cells": [
  {
   "cell_type": "markdown",
   "metadata": {},
   "source": [
    "# Proyecto: RecRoyale\n",
    "\n",
    "## Integrantes:\n",
    "\n",
    "- Benjamín Farías V.\n",
    "- Benjamín Lepe M.\n",
    "- Juan Romero R."
   ]
  },
  {
   "cell_type": "code",
   "execution_count": 2,
   "metadata": {},
   "outputs": [],
   "source": [
    "import matplotlib.pyplot as plt\n",
    "import numpy as np\n",
    "import pandas as pd\n",
    "import tensorflow as tf\n",
    "from tensorflow.keras.layers import Dense\n",
    "from tensorflow.keras.models import Sequential, load_model\n",
    "\n",
    "# Set random seeds\n",
    "np.random.seed(1)\n",
    "tf.random.set_seed(2)\n",
    "\n",
    "# Config\n",
    "pd.options.mode.chained_assignment = None  # default='warn'"
   ]
  },
  {
   "cell_type": "code",
   "execution_count": 3,
   "metadata": {},
   "outputs": [
    {
     "data": {
      "text/html": [
       "<div>\n",
       "<style scoped>\n",
       "    .dataframe tbody tr th:only-of-type {\n",
       "        vertical-align: middle;\n",
       "    }\n",
       "\n",
       "    .dataframe tbody tr th {\n",
       "        vertical-align: top;\n",
       "    }\n",
       "\n",
       "    .dataframe thead th {\n",
       "        text-align: right;\n",
       "    }\n",
       "</style>\n",
       "<table border=\"1\" class=\"dataframe\">\n",
       "  <thead>\n",
       "    <tr style=\"text-align: right;\">\n",
       "      <th></th>\n",
       "      <th>team.card1.id</th>\n",
       "      <th>team.card1.name</th>\n",
       "    </tr>\n",
       "  </thead>\n",
       "  <tbody>\n",
       "    <tr>\n",
       "      <th>0</th>\n",
       "      <td>26000000</td>\n",
       "      <td>Knight</td>\n",
       "    </tr>\n",
       "    <tr>\n",
       "      <th>1</th>\n",
       "      <td>26000001</td>\n",
       "      <td>Archers</td>\n",
       "    </tr>\n",
       "    <tr>\n",
       "      <th>2</th>\n",
       "      <td>26000002</td>\n",
       "      <td>Goblins</td>\n",
       "    </tr>\n",
       "    <tr>\n",
       "      <th>3</th>\n",
       "      <td>26000003</td>\n",
       "      <td>Giant</td>\n",
       "    </tr>\n",
       "    <tr>\n",
       "      <th>4</th>\n",
       "      <td>26000004</td>\n",
       "      <td>P.E.K.K.A</td>\n",
       "    </tr>\n",
       "    <tr>\n",
       "      <th>...</th>\n",
       "      <td>...</td>\n",
       "      <td>...</td>\n",
       "    </tr>\n",
       "    <tr>\n",
       "      <th>97</th>\n",
       "      <td>28000014</td>\n",
       "      <td>Earthquake</td>\n",
       "    </tr>\n",
       "    <tr>\n",
       "      <th>98</th>\n",
       "      <td>28000015</td>\n",
       "      <td>Barbarian Barrel</td>\n",
       "    </tr>\n",
       "    <tr>\n",
       "      <th>99</th>\n",
       "      <td>28000016</td>\n",
       "      <td>Heal Spirit</td>\n",
       "    </tr>\n",
       "    <tr>\n",
       "      <th>100</th>\n",
       "      <td>28000017</td>\n",
       "      <td>Giant Snowball</td>\n",
       "    </tr>\n",
       "    <tr>\n",
       "      <th>101</th>\n",
       "      <td>28000018</td>\n",
       "      <td>Royal Delivery</td>\n",
       "    </tr>\n",
       "  </tbody>\n",
       "</table>\n",
       "<p>102 rows × 2 columns</p>\n",
       "</div>"
      ],
      "text/plain": [
       "     team.card1.id   team.card1.name\n",
       "0         26000000            Knight\n",
       "1         26000001           Archers\n",
       "2         26000002           Goblins\n",
       "3         26000003             Giant\n",
       "4         26000004         P.E.K.K.A\n",
       "..             ...               ...\n",
       "97        28000014        Earthquake\n",
       "98        28000015  Barbarian Barrel\n",
       "99        28000016       Heal Spirit\n",
       "100       28000017    Giant Snowball\n",
       "101       28000018    Royal Delivery\n",
       "\n",
       "[102 rows x 2 columns]"
      ]
     },
     "execution_count": 3,
     "metadata": {},
     "output_type": "execute_result"
    }
   ],
   "source": [
    "# Load cards dataset\n",
    "cards_dataset = pd.read_csv('datasets/CardMasterListSeason18_12082020.csv', sep=',')\n",
    "cards_dataset"
   ]
  },
  {
   "cell_type": "code",
   "execution_count": 4,
   "metadata": {},
   "outputs": [
    {
     "name": "stdout",
     "output_type": "stream",
     "text": [
      "0                Knight\n",
      "1               Archers\n",
      "2               Goblins\n",
      "3                 Giant\n",
      "4             P.E.K.K.A\n",
      "             ...       \n",
      "97           Earthquake\n",
      "98     Barbarian Barrel\n",
      "99          Heal Spirit\n",
      "100      Giant Snowball\n",
      "101      Royal Delivery\n",
      "Name: team.card1.name, Length: 102, dtype: object\n"
     ]
    }
   ],
   "source": [
    "# Card names list\n",
    "card_names = cards_dataset['team.card1.name']\n",
    "print(card_names)\n",
    "\n",
    "# Map card name to index and viceversa\n",
    "card_name_to_idx = dict()\n",
    "idx_to_card_name = dict()\n",
    "for index, card in enumerate(card_names):\n",
    "    card_name_to_idx[card] = index\n",
    "    idx_to_card_name[index] = card\n",
    "\n",
    "\n",
    "# Map card id to index in names list\n",
    "card_id_to_idx = dict()\n",
    "for index, card in cards_dataset.iterrows():\n",
    "    card_id_to_idx[card['team.card1.id']] = index"
   ]
  },
  {
   "cell_type": "code",
   "execution_count": 5,
   "metadata": {},
   "outputs": [],
   "source": [
    "# Load dataset in batches\n",
    "def load_data(dataset_path, idx, batch_size):\n",
    "    # Preprocessing\n",
    "    rows = None\n",
    "    if idx:\n",
    "        rows = range(1, idx * batch_size + 1)\n",
    "    df = pd.read_csv(dataset_path, sep=',', skiprows=rows, nrows=batch_size)\n",
    "    for c_idx in range(1, 9):  # Map card ids + levels to indexes for faster operations\n",
    "        df[f'winner.card{c_idx}'] = df[f'winner.card{c_idx}.id'].map(lambda c: card_id_to_idx[c]) * 14 + df[f'winner.card{c_idx}.level'] - 1\n",
    "        df[f'loser.card{c_idx}'] = df[f'loser.card{c_idx}.id'].map(lambda c: card_id_to_idx[c]) * 14 + df[f'loser.card{c_idx}.level'] - 1\n",
    "    df['crowns'] = df['winner.crowns'] - df['loser.crowns']  # Get crown difference\n",
    "    useful_columns = []  # Filter useful columns\n",
    "    x_columns = []\n",
    "    y_columns = []\n",
    "    for player in ('loser', 'winner'):\n",
    "        for c_idx in range(1, 9):\n",
    "            if player == 'loser':\n",
    "                x_columns.append(f'{player}.card{c_idx}')\n",
    "            else:\n",
    "                y_columns.append(f'{player}.card{c_idx}')\n",
    "            useful_columns.append(f'{player}.card{c_idx}')\n",
    "    y_columns.append('crowns')\n",
    "    useful_columns.append('crowns')\n",
    "    combat_data = df[useful_columns]\n",
    "\n",
    "    # X values\n",
    "    input_data = combat_data[x_columns].to_numpy()\n",
    "    X = []\n",
    "    for example in input_data:\n",
    "        current_x = [1 if n in example else 0 for n in range(1428)]\n",
    "        X.append(current_x)\n",
    "    X = np.array(X).reshape(len(X), 1428)\n",
    "\n",
    "    # Y values\n",
    "    true_data = combat_data[y_columns].to_numpy()\n",
    "    Y = []\n",
    "    for example in true_data:\n",
    "        current_y = [1 if n in example[:-1] else 0 for n in range(1428)]\n",
    "        current_y.append(example[-1])\n",
    "        Y.append(current_y)\n",
    "    Y = np.array(Y).reshape(len(Y), 1429)\n",
    "\n",
    "    return X, Y\n",
    "\n",
    "# Generate batches\n",
    "def batch_generator(dataset_path, batch_size, steps):\n",
    "    idx = 1\n",
    "    while True:\n",
    "        yield load_data(dataset_path, idx - 1, batch_size)\n",
    "        if idx < steps:\n",
    "            idx += 1\n",
    "        else:\n",
    "            idx = 1"
   ]
  },
  {
   "cell_type": "code",
   "execution_count": 6,
   "metadata": {},
   "outputs": [],
   "source": [
    "# Prepare data for training\n",
    "batch_size = 256\n",
    "train_path = 'datasets/train/train.csv'\n",
    "train_steps = np.ceil(32000 / batch_size)  # We use 32000 rows for 4 epochs\n",
    "train_generator = batch_generator(train_path, batch_size, train_steps)\n",
    "\n",
    "# Prepare data for validation\n",
    "val_path = 'datasets/val/val.csv'  # We use 8192 rows for 4 epochs\n",
    "val_steps = np.ceil(8192 / batch_size)\n",
    "val_generator = batch_generator(val_path, batch_size, val_steps)"
   ]
  },
  {
   "cell_type": "code",
   "execution_count": 7,
   "metadata": {},
   "outputs": [],
   "source": [
    "# Generate model\n",
    "def generate_model(layers):\n",
    "    m = Sequential()\n",
    "    m.add(Dense(layers[0], input_shape=(1428,), activation='relu'))\n",
    "    name = f'RoyaleNet_{layers[0]}'\n",
    "    for layer in layers[1:]:\n",
    "        m.add(Dense(layer, activation='relu'))\n",
    "        name += f'_{layer}'\n",
    "    m.add(Dense(1428, activation='sigmoid'))\n",
    "    return m, name"
   ]
  },
  {
   "cell_type": "code",
   "execution_count": 8,
   "metadata": {},
   "outputs": [],
   "source": [
    "# Loss function (Binary Cross-Entropy)\n",
    "def binary_loss(y_true, y_pred):\n",
    "    cards_loss = tf.keras.losses.binary_crossentropy(y_true[:,:-1], y_pred)\n",
    "    return cards_loss * (1 + 0.3 * y_true[:,-1])\n",
    "\n",
    "# Binary accuracy (cards in common with target)\n",
    "def binary_acc(y_true, y_pred):\n",
    "    cards_acc = tf.keras.metrics.binary_accuracy(y_true[:,:-1], y_pred, threshold=0.1)\n",
    "    return cards_acc"
   ]
  },
  {
   "cell_type": "code",
   "execution_count": 9,
   "metadata": {},
   "outputs": [
    {
     "name": "stdout",
     "output_type": "stream",
     "text": [
      "Model: \"sequential\"\n",
      "_________________________________________________________________\n",
      "Layer (type)                 Output Shape              Param #   \n",
      "=================================================================\n",
      "dense (Dense)                (None, 10000)             14290000  \n",
      "_________________________________________________________________\n",
      "dense_1 (Dense)              (None, 1428)              14281428  \n",
      "=================================================================\n",
      "Total params: 28,571,428\n",
      "Trainable params: 28,571,428\n",
      "Non-trainable params: 0\n",
      "_________________________________________________________________\n"
     ]
    }
   ],
   "source": [
    "# Obtain model\n",
    "hidden_layers_a = [3000]\n",
    "hidden_layers_b = [10000]\n",
    "hidden_layers_c = [3000, 2000]\n",
    "hidden_layers_d = [2000, 5000]\n",
    "hidden_layers_e = [2000, 5000, 2000]\n",
    "model, model_name = generate_model(hidden_layers_b)\n",
    "model.summary()"
   ]
  },
  {
   "cell_type": "code",
   "execution_count": 10,
   "metadata": {},
   "outputs": [],
   "source": [
    "# Compile\n",
    "model.compile(optimizer='adam', loss=binary_loss, metrics=[binary_acc])"
   ]
  },
  {
   "cell_type": "code",
   "execution_count": 11,
   "metadata": {},
   "outputs": [
    {
     "name": "stdout",
     "output_type": "stream",
     "text": [
      "Epoch 1/5\n",
      "125/125 [==============================] - 241s 2s/step - loss: 0.1794 - binary_acc: 0.7720 - val_loss: 0.0296 - val_binary_acc: 0.9853\n",
      "Epoch 2/5\n",
      "125/125 [==============================] - 239s 2s/step - loss: 0.0290 - binary_acc: 0.9842 - val_loss: 0.0293 - val_binary_acc: 0.9853\n",
      "Epoch 3/5\n",
      "125/125 [==============================] - 239s 2s/step - loss: 0.0286 - binary_acc: 0.9839 - val_loss: 0.0292 - val_binary_acc: 0.9852\n",
      "Epoch 4/5\n",
      "125/125 [==============================] - 239s 2s/step - loss: 0.0283 - binary_acc: 0.9838 - val_loss: 0.0293 - val_binary_acc: 0.9850\n",
      "Epoch 5/5\n",
      "125/125 [==============================] - 238s 2s/step - loss: 0.0281 - binary_acc: 0.9838 - val_loss: 0.0294 - val_binary_acc: 0.9848\n"
     ]
    }
   ],
   "source": [
    "# Train\n",
    "history = model.fit(train_generator, epochs=5, steps_per_epoch=train_steps, validation_data=val_generator, validation_steps=val_steps)"
   ]
  },
  {
   "cell_type": "code",
   "execution_count": 12,
   "metadata": {},
   "outputs": [
    {
     "name": "stdout",
     "output_type": "stream",
     "text": [
      "dict_keys(['loss', 'binary_acc', 'val_loss', 'val_binary_acc'])\n"
     ]
    },
    {
     "data": {
      "image/png": "[encoded data removed]",
      "text/plain": [
       "<Figure size 432x288 with 1 Axes>"
      ]
     },
     "metadata": {
      "needs_background": "light"
     },
     "output_type": "display_data"
    },
    {
     "data": {
      "image/png": "[encoded data removed]",
      "text/plain": [
       "<Figure size 432x288 with 1 Axes>"
      ]
     },
     "metadata": {
      "needs_background": "light"
     },
     "output_type": "display_data"
    }
   ],
   "source": [
    "# Analyze history\n",
    "print(history.history.keys())\n",
    "\n",
    "# Summarize history for accuracy\n",
    "plt.plot(history.history['binary_acc'])\n",
    "plt.plot(history.history['val_binary_acc'])\n",
    "plt.title('Model Accuracy')\n",
    "plt.ylabel('Accuracy')\n",
    "plt.xlabel('Epoch')\n",
    "plt.legend(['train', 'val'], loc='upper left')\n",
    "plt.show()\n",
    "\n",
    "# Summarize history for loss\n",
    "plt.plot(history.history['loss'])\n",
    "plt.plot(history.history['val_loss'])\n",
    "plt.title('Model Loss')\n",
    "plt.ylabel('Loss')\n",
    "plt.xlabel('Epoch')\n",
    "plt.legend(['train', 'val'], loc='upper left')\n",
    "plt.show()"
   ]
  },
  {
   "cell_type": "code",
   "execution_count": 14,
   "metadata": {},
   "outputs": [],
   "source": [
    "# Save model\n",
    "model.save(f'{model_name}.h5')"
   ]
  },
  {
   "cell_type": "markdown",
   "metadata": {},
   "source": [
    "### Análisis de parámetros:\n",
    "\n",
    "RoyaleNet @3000 - Acc: 0.9850, Loss: 0.0292 -> 2\n",
    "\n",
    "RoyaleNet @10000 - Acc: 0.9853, Loss: 0.0293 -> 1\n",
    "\n",
    "RoyaleNet @3000+2000 - Acc: 0.9843, Loss: 0.0293 -> 3\n",
    "\n",
    "RoyaleNet @2000+5000 - Acc: 0.9842, Loss: 0.0292 -> 4\n",
    "\n",
    "RoyaleNet @2000+5000+2000 - Acc: 0.9843, Loss: 0.0294 -> 5\n",
    "\n",
    "(2 épocas para evitar overfitting)"
   ]
  },
  {
   "cell_type": "code",
   "execution_count": null,
   "metadata": {},
   "outputs": [],
   "source": [
    "# Prepare data for testing\n",
    "test_path = 'datasets/test/test.csv'\n",
    "test_steps = np.ceil(8192 / batch_size)\n",
    "test_generator = batch_generator(test_path, batch_size, test_steps)"
   ]
  },
  {
   "cell_type": "code",
   "execution_count": null,
   "metadata": {},
   "outputs": [
    {
     "name": "stdout",
     "output_type": "stream",
     "text": [
      "32/32 [==============================] - 50s 2s/step - loss: 0.9666 - binary_acc: 0.0056\n"
     ]
    },
    {
     "data": {
      "text/plain": [
       "[0.9739462733268738, 0.005602241028100252]"
      ]
     },
     "execution_count": 12,
     "metadata": {},
     "output_type": "execute_result"
    }
   ],
   "source": [
    "# Random model (for comparison)\n",
    "random, rand_name = generate_model([10000])\n",
    "random.compile(optimizer='adam', loss=binary_loss, metrics=[binary_acc])\n",
    "random.evaluate(test_generator, steps=test_steps)"
   ]
  },
  {
   "cell_type": "code",
   "execution_count": null,
   "metadata": {},
   "outputs": [],
   "source": [
    "# Load saved models for testing\n",
    "test_model = load_model('RoyaleNet_10000.h5', custom_objects={'binary_loss': binary_loss, 'binary_acc': binary_acc})\n",
    "test_model.compile(optimizer='adam', loss=binary_loss, metrics=[binary_acc])"
   ]
  },
  {
   "cell_type": "code",
   "execution_count": null,
   "metadata": {},
   "outputs": [
    {
     "name": "stdout",
     "output_type": "stream",
     "text": [
      "32/32 [==============================] - 50s 2s/step - loss: 0.0286 - binary_acc: 0.9837\n"
     ]
    },
    {
     "data": {
      "text/plain": [
       "[0.02910744585096836, 0.9839659929275513]"
      ]
     },
     "execution_count": 25,
     "metadata": {},
     "output_type": "execute_result"
    }
   ],
   "source": [
    "# Testing\n",
    "test_model.evaluate(test_generator, steps=test_steps)"
   ]
  },
  {
   "cell_type": "markdown",
   "metadata": {},
   "source": [
    "### Resultados de Experimentos:\n",
    "\n",
    "Random - Acc: 0.0056, Loss: 0.973 -> 6\n",
    "\n",
    "RoyaleNet @3000 - Acc: 0.984, Loss: 0.0289 -> 5\n",
    "\n",
    "RoyaleNet @10000 - Acc: 0.985, Loss: 0.029 -> 1\n",
    "\n",
    "RoyaleNet @3000+2000 - Acc: 0.984, Loss: 0.0284 -> 4\n",
    "\n",
    "RoyaleNet @2000+5000 - Acc: 0.984, Loss: 0.029 -> 2\n",
    "\n",
    "RoyaleNet @2000+5000+2000 - Acc: 0.984, Loss: 0.029 -> 3"
   ]
  },
  {
   "cell_type": "code",
   "execution_count": null,
   "metadata": {},
   "outputs": [],
   "source": [
    "# Evaluation in practice\n",
    "eval_model = load_model('RoyaleNet_10000.h5', custom_objects={'binary_loss': binary_loss, 'binary_acc': binary_acc})\n",
    "eval_model.compile(optimizer='adam', loss=binary_loss, metrics=[binary_acc])"
   ]
  },
  {
   "cell_type": "code",
   "execution_count": null,
   "metadata": {},
   "outputs": [],
   "source": [
    "# Model in practice: input - 8 cards from opponent, output - 8 cards for you\n",
    "def get_prediction(model, opponent):\n",
    "    x_input = [0] * 1428\n",
    "    for card_name in opponent:\n",
    "        idx = card_name_to_idx[card_name] * 14 + 14 - 1\n",
    "        x_input[idx] = 1\n",
    "    X = [x_input]\n",
    "    X = np.array(X).reshape(len(X), 1428)\n",
    "    pred = model.predict(X)[0]\n",
    "    ranking = np.argsort(pred)[::-1]\n",
    "    predicted_cards = []\n",
    "    for card_idx in ranking:\n",
    "        c_name = idx_to_card_name[np.floor(card_idx / 14)]\n",
    "        if c_name not in predicted_cards and len(predicted_cards) < 8:\n",
    "            predicted_cards.append(c_name)\n",
    "    return sorted(predicted_cards)"
   ]
  },
  {
   "cell_type": "code",
   "execution_count": null,
   "metadata": {},
   "outputs": [
    {
     "name": "stdout",
     "output_type": "stream",
     "text": [
      "['Arrows', 'Baby Dragon', 'Fireball', 'Hog Rider', 'Knight', 'The Log', 'Valkyrie', 'Zap']\n"
     ]
    }
   ],
   "source": [
    "# Examples\n",
    "print(get_prediction(eval_model, ['Witch', 'Valkyrie', 'Skeleton Army', 'Inferno Dragon', 'Mega Knight', 'Wall Breakers', 'Goblin Barrel', 'The Log']))"
   ]
  },
  {
   "cell_type": "code",
   "execution_count": null,
   "metadata": {},
   "outputs": [
    {
     "name": "stdout",
     "output_type": "stream",
     "text": [
      "['Arrows', 'Fireball', 'Knight', 'Mini P.E.K.K.A', 'Skeleton Army', 'The Log', 'Valkyrie', 'Zap']\n"
     ]
    }
   ],
   "source": [
    "print(get_prediction(eval_model, ['Knight', 'Skeleton Army', 'Princess', 'Dart Goblin', 'Skeleton Barrel', 'Inferno Tower', 'Goblin Barrel', 'The Log']))"
   ]
  },
  {
   "cell_type": "code",
   "execution_count": null,
   "metadata": {},
   "outputs": [
    {
     "name": "stdout",
     "output_type": "stream",
     "text": [
      "['Arrows', 'Fireball', 'Hog Rider', 'Knight', 'Skeleton Army', 'The Log', 'Valkyrie', 'Zap']\n"
     ]
    }
   ],
   "source": [
    "print(get_prediction(eval_model, ['Valkyrie', 'Tornado', 'Zap', 'Ice Spirit', 'Miner', 'Balloon', 'Skeletons', 'Executioner']))"
   ]
  }
 ],
 "metadata": {
  "interpreter": {
   "hash": "f5d4226d4848a6a0f4eeffd00e23aa9e730f3c408e903bfff6f7b017cd14961e"
  },
  "kernelspec": {
   "display_name": "Python 3.8.1 64-bit ('venv': venv)",
   "name": "python3"
  },
  "language_info": {
   "codemirror_mode": {
    "name": "ipython",
    "version": 3
   },
   "file_extension": ".py",
   "mimetype": "text/x-python",
   "name": "python",
   "nbconvert_exporter": "python",
   "pygments_lexer": "ipython3",
   "version": "3.8.1"
  },
  "orig_nbformat": 4
 },
 "nbformat": 4,
 "nbformat_minor": 2
}
